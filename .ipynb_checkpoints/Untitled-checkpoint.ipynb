{
 "cells": [
  {
   "cell_type": "code",
   "execution_count": 46,
   "id": "5062188f-8db8-4a20-91d7-655ccaff4b1b",
   "metadata": {},
   "outputs": [],
   "source": [
    "import tkinter as tk\n",
    "\n",
    "def calcu():\n",
    "    inputs=entry.get()\n",
    "    lists=list(map(int,inputs.split(',')))\n",
    "    \n",
    "    total=sum(lists)\n",
    "\n",
    "    output_box.delete(1.0,tk.END)\n",
    "    output_box.insert(tk.END,total)\n",
    "\n",
    "\n",
    "root=tk.Tk()\n",
    "root.title('sum of list')\n",
    "\n",
    "input_label=tk.Label(root,text='input numbers')\n",
    "input_label.pack()\n",
    "\n",
    "entry=tk.Entry(root)\n",
    "entry.pack()\n",
    "\n",
    "output_label=tk.Label(root,text='Result')\n",
    "output_label.pack()\n",
    "\n",
    "output_box=tk.Text(root,height=2,width=30)\n",
    "output_box.pack()\n",
    "\n",
    "submit_buton=tk.Button(root,text='submit',command=calcu)\n",
    "submit_buton.pack()\n",
    "\n",
    "root.mainloop()"
   ]
  }
 ],
 "metadata": {
  "kernelspec": {
   "display_name": "Python 3 (ipykernel)",
   "language": "python",
   "name": "python3"
  },
  "language_info": {
   "codemirror_mode": {
    "name": "ipython",
    "version": 3
   },
   "file_extension": ".py",
   "mimetype": "text/x-python",
   "name": "python",
   "nbconvert_exporter": "python",
   "pygments_lexer": "ipython3",
   "version": "3.11.7"
  }
 },
 "nbformat": 4,
 "nbformat_minor": 5
}
